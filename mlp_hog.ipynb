{
  "nbformat": 4,
  "nbformat_minor": 0,
  "metadata": {
    "colab": {
      "name": "mlp_hog.ipynb",
      "provenance": [],
      "collapsed_sections": []
    },
    "kernelspec": {
      "name": "python3",
      "display_name": "Python 3"
    },
    "language_info": {
      "name": "python"
    }
  },
  "cells": [
    {
      "cell_type": "markdown",
      "source": [
        "### Vighnesh Mane (210021607) - PG"
      ],
      "metadata": {
        "id": "HpQjsWrtI-Ro"
      }
    },
    {
      "cell_type": "code",
      "execution_count": null,
      "metadata": {
        "colab": {
          "base_uri": "https://localhost:8080/"
        },
        "id": "PKmvzs1T5cNZ",
        "outputId": "0d22815e-91f8-4860-e623-0b88260b43eb"
      },
      "outputs": [
        {
          "output_type": "stream",
          "name": "stdout",
          "text": [
            "Mounted at /content/drive\n"
          ]
        }
      ],
      "source": [
        "# Google Colab Setup (reference: Lab 07)\n",
        "from google.colab import drive\n",
        "drive.mount('/content/drive')"
      ]
    },
    {
      "cell_type": "code",
      "source": [
        "# recall the path in Google Drive (reference: Lab 07)\n",
        "import os\n",
        "GOOGLE_DRIVE_PATH_AFTER_MYDRIVE = 'CW_Folder_PG' \n",
        "GOOGLE_DRIVE_PATH = os.path.join('drive', 'My Drive', GOOGLE_DRIVE_PATH_AFTER_MYDRIVE)\n",
        "print(os.listdir(GOOGLE_DRIVE_PATH))"
      ],
      "metadata": {
        "colab": {
          "base_uri": "https://localhost:8080/"
        },
        "id": "KSE44dVb5nPS",
        "outputId": "c2a5ea8d-11b1-4284-a5c1-e677eab8b4ac"
      },
      "execution_count": null,
      "outputs": [
        {
          "output_type": "stream",
          "name": "stdout",
          "text": [
            "['CW_Dataset.zip', '.DS_Store', 'Video', 'Code', 'Models', 'test_functions.ipynb']\n"
          ]
        }
      ]
    },
    {
      "cell_type": "code",
      "source": [
        "GOOGLE_DRIVE_PATH"
      ],
      "metadata": {
        "colab": {
          "base_uri": "https://localhost:8080/",
          "height": 36
        },
        "id": "qxAkORUK5ufG",
        "outputId": "3fd8d700-5479-4d5f-fb84-23a908c30c76"
      },
      "execution_count": null,
      "outputs": [
        {
          "output_type": "execute_result",
          "data": {
            "text/plain": [
              "'drive/My Drive/CW_Folder_PG'"
            ],
            "application/vnd.google.colaboratory.intrinsic+json": {
              "type": "string"
            }
          },
          "metadata": {},
          "execution_count": 3
        }
      ]
    },
    {
      "cell_type": "code",
      "source": [
        "# update opencv (reference: Lab 07)\n",
        "!pip install opencv-python==4.5.5.64"
      ],
      "metadata": {
        "colab": {
          "base_uri": "https://localhost:8080/"
        },
        "id": "N4MqG5FZ5ztT",
        "outputId": "b7eadbbf-df88-436e-e254-bc1e72ff5f58"
      },
      "execution_count": null,
      "outputs": [
        {
          "output_type": "stream",
          "name": "stdout",
          "text": [
            "Collecting opencv-python==4.5.5.64\n",
            "  Downloading opencv_python-4.5.5.64-cp36-abi3-manylinux_2_17_x86_64.manylinux2014_x86_64.whl (60.5 MB)\n",
            "\u001b[K     |████████████████████████████████| 60.5 MB 1.3 MB/s \n",
            "\u001b[?25hRequirement already satisfied: numpy>=1.14.5 in /usr/local/lib/python3.7/dist-packages (from opencv-python==4.5.5.64) (1.21.6)\n",
            "Installing collected packages: opencv-python\n",
            "  Attempting uninstall: opencv-python\n",
            "    Found existing installation: opencv-python 4.1.2.30\n",
            "    Uninstalling opencv-python-4.1.2.30:\n",
            "      Successfully uninstalled opencv-python-4.1.2.30\n",
            "\u001b[31mERROR: pip's dependency resolver does not currently take into account all the packages that are installed. This behaviour is the source of the following dependency conflicts.\n",
            "albumentations 0.1.12 requires imgaug<0.2.7,>=0.2.5, but you have imgaug 0.2.9 which is incompatible.\u001b[0m\n",
            "Successfully installed opencv-python-4.5.5.64\n"
          ]
        }
      ]
    },
    {
      "cell_type": "code",
      "source": [
        "# check correct opencv version (reference: Lab 07)\n",
        "!pip show opencv-python"
      ],
      "metadata": {
        "colab": {
          "base_uri": "https://localhost:8080/"
        },
        "id": "1oyDfiBt6CCr",
        "outputId": "a34ff477-8f36-42a6-e850-78bd8e4cc76c"
      },
      "execution_count": null,
      "outputs": [
        {
          "output_type": "stream",
          "name": "stdout",
          "text": [
            "Name: opencv-python\n",
            "Version: 4.5.5.64\n",
            "Summary: Wrapper package for OpenCV python bindings.\n",
            "Home-page: https://github.com/skvark/opencv-python\n",
            "Author: None\n",
            "Author-email: None\n",
            "License: MIT\n",
            "Location: /usr/local/lib/python3.7/dist-packages\n",
            "Requires: numpy\n",
            "Required-by: imgaug, dopamine-rl, albumentations\n"
          ]
        }
      ]
    },
    {
      "cell_type": "code",
      "source": [
        "# copy and unzip dataset directly on the Colab server (reference: Lab 07)\n",
        "# Identify path to zipped dataset\n",
        "zip_path = os.path.join(GOOGLE_DRIVE_PATH, 'CW_Dataset.zip')\n",
        "\n",
        "# Copy it to Colab\n",
        "!cp '{zip_path}' .\n",
        "\n",
        "# Unzip it\n",
        "!yes|unzip -q CW_Dataset.zip\n",
        "\n",
        "# Delete zipped version from Colab (not from Drive)\n",
        "!rm CW_Dataset.zip"
      ],
      "metadata": {
        "id": "AkmZUHKm6GwD"
      },
      "execution_count": null,
      "outputs": []
    },
    {
      "cell_type": "code",
      "source": [
        "# import libraries\n",
        "import cv2\n",
        "from sklearn.model_selection import train_test_split\n",
        "from skimage import img_as_ubyte, io, color\n",
        "from sklearn.cluster import MiniBatchKMeans\n",
        "from sklearn import svm, metrics\n",
        "import matplotlib.pyplot as plt\n",
        "import numpy as np\n",
        "from collections import Counter\n",
        "import os\n",
        "%matplotlib inline"
      ],
      "metadata": {
        "id": "IsdKATis6MSf"
      },
      "execution_count": null,
      "outputs": []
    },
    {
      "cell_type": "code",
      "source": [
        "# import data from the respective directories (reference : Lab 07)\n",
        "# Here we have not considered labels_list = None\n",
        "def loading_im_lab_data(path):\n",
        "  # getting image files from the directories\n",
        "  folder_images = [folder for folder in sorted(os.listdir(path)) if folder.endswith('.jpg')]\n",
        "  images = [cv2.imread(os.path.join(path, folder)) for folder in folder_images]\n",
        "  # getting label files from the directories\n",
        "  folder_labels = open(\"labels/list_label_\" + path + \".txt\", \"r\")\n",
        "  labels = [row.split(' ')[1][0] for row in folder_labels]\n",
        "  return images, labels\n",
        "X_train, y_train = loading_im_lab_data(\"train\")\n",
        "X_test, y_test = loading_im_lab_data(\"test\")"
      ],
      "metadata": {
        "id": "j0xE8jjJ6SSz"
      },
      "execution_count": null,
      "outputs": []
    },
    {
      "cell_type": "code",
      "source": [
        "# (reference: https://www.w3schools.com/python/ref_func_len.asp#:~:text=The%20len()%20function%20returns,of%20characters%20in%20the%20string.)\n",
        "# checking the length of the training data and testing data\n",
        "print(len(y_train))\n",
        "print(len(y_test))"
      ],
      "metadata": {
        "colab": {
          "base_uri": "https://localhost:8080/"
        },
        "id": "nWH8oMb66VI8",
        "outputId": "d8b1c9c3-cf46-4fbe-bfb8-82295f34f91f"
      },
      "execution_count": null,
      "outputs": [
        {
          "output_type": "stream",
          "name": "stdout",
          "text": [
            "12271\n",
            "3068\n"
          ]
        }
      ]
    },
    {
      "cell_type": "code",
      "source": [
        "# (reference : Lab 07)\n",
        "print(Counter(y_train))\n",
        "print(Counter(y_test))"
      ],
      "metadata": {
        "colab": {
          "base_uri": "https://localhost:8080/"
        },
        "id": "Tb7e5yD56avQ",
        "outputId": "5140daf8-4009-4a08-911d-4a076a8f2e33"
      },
      "execution_count": null,
      "outputs": [
        {
          "output_type": "stream",
          "name": "stdout",
          "text": [
            "Counter({'4': 4772, '7': 2524, '5': 1982, '1': 1290, '3': 717, '6': 705, '2': 281})\n",
            "Counter({'4': 1185, '7': 680, '5': 478, '1': 329, '6': 162, '3': 160, '2': 74})\n"
          ]
        }
      ]
    },
    {
      "cell_type": "code",
      "source": [
        "# (reference : Lab 07)\n",
        "# (reference : https://www.kaggle.com/code/manikg/training-svm-classifier-with-hog-features/notebook)\n",
        "# applying histograms of gradients on images\n",
        "from skimage.feature import hog\n",
        "# Create empty lists for feature descriptors and labels\n",
        "ppc = 16\n",
        "cpb = 1\n",
        "hog_imgs = []\n",
        "hog_features = []\n",
        "\n",
        "for z in range(len(X_train)):\n",
        "    # Identify keypoints and extract descriptors\n",
        "    img = img_as_ubyte(color.rgb2gray(X_train[z]))\n",
        "    feature_matrix, hog_img = hog( img, orientations=8, pixels_per_cell=(ppc, ppc),  cells_per_block=(cpb, cpb), visualize=True)\n",
        "    \n",
        "    hog_imgs.append(hog_img)\n",
        "    hog_features.append(feature_matrix)"
      ],
      "metadata": {
        "id": "KuVAA_gK6dvs"
      },
      "execution_count": null,
      "outputs": []
    },
    {
      "cell_type": "code",
      "source": [
        "# (reference: https://www.analyticsvidhya.com/blog/2019/09/feature-engineering-images-introduction-hog-feature-descriptor/)\n",
        "fig, (ax1, ax2) = plt.subplots(1, 2, figsize=(14, 7), sharex=True, sharey=True) \n",
        "\n",
        "ax1.imshow(img, cmap=plt.cm.gray) \n",
        "ax1.set_title('Input image') \n",
        "\n",
        "ax2.imshow(hog_img, cmap=plt.cm.gray) \n",
        "ax2.set_title('Histogram of Oriented Gradients')\n",
        "\n",
        "plt.show()"
      ],
      "metadata": {
        "colab": {
          "base_uri": "https://localhost:8080/",
          "height": 419
        },
        "id": "YlUgydux6qo_",
        "outputId": "ab201494-c61b-4d08-abd4-90150356353c"
      },
      "execution_count": null,
      "outputs": [
        {
          "output_type": "display_data",
          "data": {
            "text/plain": [
              "<Figure size 1008x504 with 2 Axes>"
            ],
            "image/png": "[encoded data removed]"
          },
          "metadata": {
            "needs_background": "light"
          }
        }
      ]
    },
    {
      "cell_type": "code",
      "source": [
        "# (reference : Lab 06 & Lab 07)\n",
        "# (reference : https://www.kaggle.com/code/manikg/training-svm-classifier-with-hog-features/notebook)\n",
        "# convert descriptors into histograms of codewords for each image\n",
        "hist_list = []\n",
        "for i in range(len(X_test)):\n",
        "    img = img_as_ubyte(color.rgb2gray(X_test[i]))\n",
        "    feature_matrix, hog_img = hog( img, orientations=8, pixels_per_cell=(ppc, ppc),  cells_per_block=(cpb, cpb), visualize=True)\n",
        "    hist_list.append(feature_matrix)\n",
        "hist_array3 = np.vstack(hist_list)"
      ],
      "metadata": {
        "id": "D4ODvqx37ZMr"
      },
      "execution_count": null,
      "outputs": []
    },
    {
      "cell_type": "code",
      "source": [
        "# (reference : Lab 07)\n",
        "# Create a classifier: Multi-Layer Perceptron\n",
        "from sklearn.neural_network import MLPClassifier\n",
        "class_mlp_hog = MLPClassifier(hidden_layer_sizes=(50,), max_iter=100, alpha=1e-4,\n",
        "                    solver='sgd', verbose=True, random_state=1,\n",
        "                    learning_rate_init=.1)"
      ],
      "metadata": {
        "id": "yGWdcFMv7lMN"
      },
      "execution_count": null,
      "outputs": []
    },
    {
      "cell_type": "code",
      "source": [
        "# (reference : Lab 07)\n",
        "# fitting mlp classifier\n",
        "class_mlp_hog.fit(hog_features,y_train)"
      ],
      "metadata": {
        "colab": {
          "base_uri": "https://localhost:8080/"
        },
        "id": "ufeTpsz4_R_W",
        "outputId": "5f258804-221f-4cbe-de9b-5a9470c6731b"
      },
      "execution_count": null,
      "outputs": [
        {
          "output_type": "stream",
          "name": "stdout",
          "text": [
            "Iteration 1, loss = 1.54760528\n",
            "Iteration 2, loss = 1.34988653\n",
            "Iteration 3, loss = 1.24581075\n",
            "Iteration 4, loss = 1.19110205\n",
            "Iteration 5, loss = 1.17988735\n",
            "Iteration 6, loss = 1.15186770\n",
            "Iteration 7, loss = 1.13245972\n",
            "Iteration 8, loss = 1.10489298\n",
            "Iteration 9, loss = 1.11470751\n",
            "Iteration 10, loss = 1.10059856\n",
            "Iteration 11, loss = 1.08235184\n",
            "Iteration 12, loss = 1.08159124\n",
            "Iteration 13, loss = 1.07419623\n",
            "Iteration 14, loss = 1.06468501\n",
            "Iteration 15, loss = 1.05744777\n",
            "Iteration 16, loss = 1.05483351\n",
            "Iteration 17, loss = 1.04769403\n",
            "Iteration 18, loss = 1.04274225\n",
            "Iteration 19, loss = 1.03023971\n",
            "Iteration 20, loss = 1.03005590\n",
            "Iteration 21, loss = 1.03724009\n",
            "Iteration 22, loss = 1.02470853\n",
            "Iteration 23, loss = 1.05520112\n",
            "Iteration 24, loss = 1.03087091\n",
            "Iteration 25, loss = 1.02694967\n",
            "Iteration 26, loss = 1.01956598\n",
            "Iteration 27, loss = 1.01865859\n",
            "Iteration 28, loss = 1.01385171\n",
            "Iteration 29, loss = 1.02199256\n",
            "Iteration 30, loss = 1.01125918\n",
            "Iteration 31, loss = 1.01941199\n",
            "Iteration 32, loss = 0.99571583\n",
            "Iteration 33, loss = 1.00008648\n",
            "Iteration 34, loss = 1.00040982\n",
            "Iteration 35, loss = 0.99337785\n",
            "Iteration 36, loss = 0.99619565\n",
            "Iteration 37, loss = 0.99373281\n",
            "Iteration 38, loss = 0.99013501\n",
            "Iteration 39, loss = 0.97994007\n",
            "Iteration 40, loss = 0.97433455\n",
            "Iteration 41, loss = 0.98059449\n",
            "Iteration 42, loss = 0.97469815\n",
            "Iteration 43, loss = 0.97678192\n",
            "Iteration 44, loss = 0.98755982\n",
            "Iteration 45, loss = 0.97376340\n",
            "Iteration 46, loss = 0.98583749\n",
            "Iteration 47, loss = 0.97679261\n",
            "Iteration 48, loss = 0.97490867\n",
            "Iteration 49, loss = 0.97473816\n",
            "Iteration 50, loss = 0.96660607\n",
            "Iteration 51, loss = 0.97284430\n",
            "Iteration 52, loss = 0.96584613\n",
            "Iteration 53, loss = 0.96928802\n",
            "Iteration 54, loss = 0.96916338\n",
            "Iteration 55, loss = 0.96235201\n",
            "Iteration 56, loss = 0.96681212\n",
            "Iteration 57, loss = 0.95901403\n",
            "Iteration 58, loss = 0.96311262\n",
            "Iteration 59, loss = 0.96021717\n",
            "Iteration 60, loss = 0.96304235\n",
            "Iteration 61, loss = 0.96556285\n",
            "Iteration 62, loss = 0.96296052\n",
            "Iteration 63, loss = 0.95092836\n",
            "Iteration 64, loss = 0.95769367\n",
            "Iteration 65, loss = 0.95590140\n",
            "Iteration 66, loss = 0.95140377\n",
            "Iteration 67, loss = 0.95462588\n",
            "Iteration 68, loss = 0.94513087\n",
            "Iteration 69, loss = 0.94870874\n",
            "Iteration 70, loss = 0.94623909\n",
            "Iteration 71, loss = 0.94532925\n",
            "Iteration 72, loss = 0.94847981\n",
            "Iteration 73, loss = 0.94417769\n",
            "Iteration 74, loss = 0.94242391\n",
            "Iteration 75, loss = 0.94160744\n",
            "Iteration 76, loss = 0.94052849\n",
            "Iteration 77, loss = 0.94681807\n",
            "Iteration 78, loss = 0.94212604\n",
            "Iteration 79, loss = 0.93770709\n",
            "Iteration 80, loss = 0.93260131\n",
            "Iteration 81, loss = 0.93003642\n",
            "Iteration 82, loss = 0.93376074\n",
            "Iteration 83, loss = 0.93610594\n",
            "Iteration 84, loss = 0.92884947\n",
            "Iteration 85, loss = 0.93412536\n",
            "Iteration 86, loss = 0.93747976\n",
            "Iteration 87, loss = 0.92988033\n",
            "Iteration 88, loss = 0.92695753\n",
            "Iteration 89, loss = 0.92496736\n",
            "Iteration 90, loss = 0.92455212\n",
            "Iteration 91, loss = 0.93165145\n",
            "Iteration 92, loss = 0.92560142\n",
            "Iteration 93, loss = 0.92090532\n",
            "Iteration 94, loss = 0.92052926\n",
            "Iteration 95, loss = 0.92502884\n",
            "Iteration 96, loss = 0.91248850\n",
            "Iteration 97, loss = 0.91393987\n",
            "Iteration 98, loss = 0.91882501\n",
            "Iteration 99, loss = 0.91432581\n",
            "Iteration 100, loss = 0.91384398\n"
          ]
        },
        {
          "output_type": "stream",
          "name": "stderr",
          "text": [
            "/usr/local/lib/python3.7/dist-packages/sklearn/neural_network/_multilayer_perceptron.py:696: ConvergenceWarning: Stochastic Optimizer: Maximum iterations (100) reached and the optimization hasn't converged yet.\n",
            "  ConvergenceWarning,\n"
          ]
        },
        {
          "output_type": "execute_result",
          "data": {
            "text/plain": [
              "MLPClassifier(hidden_layer_sizes=(50,), learning_rate_init=0.1, max_iter=100,\n",
              "              random_state=1, solver='sgd', verbose=True)"
            ]
          },
          "metadata": {},
          "execution_count": 16
        }
      ]
    },
    {
      "cell_type": "code",
      "source": [
        "#(reference: Lab 07)\n",
        "# predciting the mlp classifier\n",
        "class_mlp_hog_predict = class_mlp_hog.predict(hist_array3).tolist()"
      ],
      "metadata": {
        "id": "Ng-mJuNN-7_T"
      },
      "execution_count": null,
      "outputs": []
    },
    {
      "cell_type": "code",
      "source": [
        "#(reference: Lab 07)\n",
        "import warnings\n",
        "warnings.filterwarnings(\"ignore\")\n",
        "#quantitative evaluation of the model's performance\n",
        "print(f\"\"\"Classification report for classifier {class_mlp_hog}:\n",
        "      {metrics.classification_report(y_test, class_mlp_hog_predict)}\\n\"\"\")"
      ],
      "metadata": {
        "colab": {
          "base_uri": "https://localhost:8080/"
        },
        "id": "_npUwsdC_IbR",
        "outputId": "565a23ec-7dfe-4156-aa27-a3763227dd28"
      },
      "execution_count": null,
      "outputs": [
        {
          "output_type": "stream",
          "name": "stdout",
          "text": [
            "Classification report for classifier MLPClassifier(hidden_layer_sizes=(50,), learning_rate_init=0.1, max_iter=100,\n",
            "              random_state=1, solver='sgd', verbose=True):\n",
            "                    precision    recall  f1-score   support\n",
            "\n",
            "           1       0.64      0.40      0.49       329\n",
            "           2       0.59      0.26      0.36        74\n",
            "           3       0.19      0.03      0.05       160\n",
            "           4       0.90      0.52      0.66      1185\n",
            "           5       0.29      0.82      0.43       478\n",
            "           6       0.55      0.32      0.41       162\n",
            "           7       0.50      0.52      0.51       680\n",
            "\n",
            "    accuracy                           0.51      3068\n",
            "   macro avg       0.53      0.41      0.42      3068\n",
            "weighted avg       0.63      0.51      0.52      3068\n",
            "\n",
            "\n"
          ]
        }
      ]
    },
    {
      "cell_type": "code",
      "source": [
        "# (reference : Lab 07)\n",
        "# confusion matrix for base svm_hog model\n",
        "metrics.ConfusionMatrixDisplay.from_predictions(y_test, class_mlp_hog_predict,cmap=plt.cm.Blues)\n",
        "plt.title('CM for MLP_HOG base model')\n",
        "plt.show()"
      ],
      "metadata": {
        "colab": {
          "base_uri": "https://localhost:8080/",
          "height": 295
        },
        "id": "F1sZIj59ADKj",
        "outputId": "07b4578d-1311-410b-8b64-1184b8133195"
      },
      "execution_count": null,
      "outputs": [
        {
          "output_type": "display_data",
          "data": {
            "text/plain": [
              "<Figure size 432x288 with 2 Axes>"
            ],
            "image/png": "[encoded data removed]"
          },
          "metadata": {
            "needs_background": "light"
          }
        }
      ]
    },
    {
      "cell_type": "code",
      "source": [
        "# (reference : https://datascience.stackexchange.com/questions/36049/how-to-adjust-the-hyperparameters-of-mlp-classifier-to-get-more-perfect-performa)\n",
        "from sklearn.model_selection import GridSearchCV\n",
        "mlp_parameters = {'activation': ['tanh', 'relu'],'solver': ['sgd', 'adam'],'alpha': [0.0001, 0.05],\n",
        "    'learning_rate': ['constant','adaptive']}\n",
        "class_mlp_hog_para = GridSearchCV(MLPClassifier(random_state=1, max_iter=200, hidden_layer_sizes=(3,3), alpha=1e-5), mlp_parameters, n_jobs=-1, cv=3)\n",
        "class_mlp_hog_para.fit(hog_features, y_train)"
      ],
      "metadata": {
        "colab": {
          "base_uri": "https://localhost:8080/"
        },
        "id": "s_DXKhXOCHAg",
        "outputId": "d65ace5b-928a-4873-dede-fd5c88a61604"
      },
      "execution_count": null,
      "outputs": [
        {
          "output_type": "execute_result",
          "data": {
            "text/plain": [
              "GridSearchCV(cv=3,\n",
              "             estimator=MLPClassifier(alpha=1e-05, hidden_layer_sizes=(3, 3),\n",
              "                                     random_state=1),\n",
              "             n_jobs=-1,\n",
              "             param_grid={'activation': ['tanh', 'relu'],\n",
              "                         'alpha': [0.0001, 0.05],\n",
              "                         'learning_rate': ['constant', 'adaptive'],\n",
              "                         'solver': ['sgd', 'adam']})"
            ]
          },
          "metadata": {},
          "execution_count": 21
        }
      ]
    },
    {
      "cell_type": "code",
      "source": [
        "print(class_mlp_hog_para.best_params_)\n",
        "print(class_mlp_hog_para.best_estimator_)"
      ],
      "metadata": {
        "colab": {
          "base_uri": "https://localhost:8080/"
        },
        "id": "H6Jtw7M7HHP6",
        "outputId": "e7d4c5e8-7f97-407b-fa54-c37914c708bf"
      },
      "execution_count": null,
      "outputs": [
        {
          "output_type": "stream",
          "name": "stdout",
          "text": [
            "{'activation': 'tanh', 'alpha': 0.05, 'learning_rate': 'constant', 'solver': 'adam'}\n",
            "MLPClassifier(activation='tanh', alpha=0.05, hidden_layer_sizes=(3, 3),\n",
            "              random_state=1)\n"
          ]
        }
      ]
    },
    {
      "cell_type": "code",
      "source": [
        "# (reference: Lab 07)\n",
        "# create mlp model with best hyperparameters obtained from grid search\n",
        "# Create a classifier: a support vector classifier with best hyperparameters\n",
        "class_mlp_hog_best_para = MLPClassifier(hidden_layer_sizes=(3,3), max_iter=100, alpha=0.05,\n",
        "                    solver='adam', verbose=True, random_state=1,\n",
        "                    learning_rate = 'constant',activation = 'tanh')\n",
        "class_mlp_hog_best_para.fit(hog_features, y_train)"
      ],
      "metadata": {
        "colab": {
          "base_uri": "https://localhost:8080/"
        },
        "id": "C9U3aNbZGH8-",
        "outputId": "9a06163c-ccab-4fb7-f4ab-d2b9209f0250"
      },
      "execution_count": null,
      "outputs": [
        {
          "output_type": "stream",
          "name": "stdout",
          "text": [
            "Iteration 1, loss = 1.84506460\n",
            "Iteration 2, loss = 1.73222076\n",
            "Iteration 3, loss = 1.67794918\n",
            "Iteration 4, loss = 1.63401090\n",
            "Iteration 5, loss = 1.59850645\n",
            "Iteration 6, loss = 1.56599278\n",
            "Iteration 7, loss = 1.53437241\n",
            "Iteration 8, loss = 1.50637309\n",
            "Iteration 9, loss = 1.48254585\n",
            "Iteration 10, loss = 1.46554261\n",
            "Iteration 11, loss = 1.44942800\n",
            "Iteration 12, loss = 1.43802888\n",
            "Iteration 13, loss = 1.42795687\n",
            "Iteration 14, loss = 1.42229534\n",
            "Iteration 15, loss = 1.41445853\n",
            "Iteration 16, loss = 1.41038340\n",
            "Iteration 17, loss = 1.40457706\n",
            "Iteration 18, loss = 1.40139741\n",
            "Iteration 19, loss = 1.39937480\n",
            "Iteration 20, loss = 1.39715348\n",
            "Iteration 21, loss = 1.39125661\n",
            "Iteration 22, loss = 1.39014693\n",
            "Iteration 23, loss = 1.38612756\n",
            "Iteration 24, loss = 1.38306754\n",
            "Iteration 25, loss = 1.38193882\n",
            "Iteration 26, loss = 1.37890702\n",
            "Iteration 27, loss = 1.37637871\n",
            "Iteration 28, loss = 1.37474335\n",
            "Iteration 29, loss = 1.37026341\n",
            "Iteration 30, loss = 1.37207751\n",
            "Iteration 31, loss = 1.36603488\n",
            "Iteration 32, loss = 1.36952358\n",
            "Iteration 33, loss = 1.36194662\n",
            "Iteration 34, loss = 1.35926401\n",
            "Iteration 35, loss = 1.35843822\n",
            "Iteration 36, loss = 1.35472108\n",
            "Iteration 37, loss = 1.35184750\n",
            "Iteration 38, loss = 1.35575614\n",
            "Iteration 39, loss = 1.35223752\n",
            "Iteration 40, loss = 1.34540155\n",
            "Iteration 41, loss = 1.34182337\n",
            "Iteration 42, loss = 1.33879442\n",
            "Iteration 43, loss = 1.33740548\n",
            "Iteration 44, loss = 1.33085550\n",
            "Iteration 45, loss = 1.32848382\n",
            "Iteration 46, loss = 1.32215498\n",
            "Iteration 47, loss = 1.31827780\n",
            "Iteration 48, loss = 1.31373167\n",
            "Iteration 49, loss = 1.30879721\n",
            "Iteration 50, loss = 1.30299546\n",
            "Iteration 51, loss = 1.30049644\n",
            "Iteration 52, loss = 1.29455027\n",
            "Iteration 53, loss = 1.29234930\n",
            "Iteration 54, loss = 1.28848474\n",
            "Iteration 55, loss = 1.28153719\n",
            "Iteration 56, loss = 1.28081806\n",
            "Iteration 57, loss = 1.27773085\n",
            "Iteration 58, loss = 1.27535478\n",
            "Iteration 59, loss = 1.26942112\n",
            "Iteration 60, loss = 1.26658748\n",
            "Iteration 61, loss = 1.26525452\n",
            "Iteration 62, loss = 1.26206384\n",
            "Iteration 63, loss = 1.26088080\n",
            "Iteration 64, loss = 1.25870965\n",
            "Iteration 65, loss = 1.25957059\n",
            "Iteration 66, loss = 1.25373298\n",
            "Iteration 67, loss = 1.25456337\n",
            "Iteration 68, loss = 1.25396336\n",
            "Iteration 69, loss = 1.24883467\n",
            "Iteration 70, loss = 1.24873676\n",
            "Iteration 71, loss = 1.24498870\n",
            "Iteration 72, loss = 1.24567125\n",
            "Iteration 73, loss = 1.24727616\n",
            "Iteration 74, loss = 1.24091043\n",
            "Iteration 75, loss = 1.24452574\n",
            "Iteration 76, loss = 1.23972297\n",
            "Iteration 77, loss = 1.23578297\n",
            "Iteration 78, loss = 1.23299384\n",
            "Iteration 79, loss = 1.23438903\n",
            "Iteration 80, loss = 1.23024706\n",
            "Iteration 81, loss = 1.22828918\n",
            "Iteration 82, loss = 1.22616419\n",
            "Iteration 83, loss = 1.22284922\n",
            "Iteration 84, loss = 1.22444737\n",
            "Iteration 85, loss = 1.22357618\n",
            "Iteration 86, loss = 1.21730269\n",
            "Iteration 87, loss = 1.21250330\n",
            "Iteration 88, loss = 1.20941915\n",
            "Iteration 89, loss = 1.20630261\n",
            "Iteration 90, loss = 1.20466007\n",
            "Iteration 91, loss = 1.20471344\n",
            "Iteration 92, loss = 1.19535099\n",
            "Iteration 93, loss = 1.19165130\n",
            "Iteration 94, loss = 1.18906456\n",
            "Iteration 95, loss = 1.18554183\n",
            "Iteration 96, loss = 1.18510380\n",
            "Iteration 97, loss = 1.18000234\n",
            "Iteration 98, loss = 1.17925232\n",
            "Iteration 99, loss = 1.17178007\n",
            "Iteration 100, loss = 1.17222854\n"
          ]
        },
        {
          "output_type": "execute_result",
          "data": {
            "text/plain": [
              "MLPClassifier(activation='tanh', alpha=0.05, hidden_layer_sizes=(3, 3),\n",
              "              max_iter=100, random_state=1, verbose=True)"
            ]
          },
          "metadata": {},
          "execution_count": 23
        }
      ]
    },
    {
      "cell_type": "code",
      "source": [
        "# predciting the mlp classifier\n",
        "class_mlp_hog_best_predict = class_mlp_hog_best_para.predict(hist_array3).tolist()"
      ],
      "metadata": {
        "id": "ogR_1Y_ZEm9g"
      },
      "execution_count": null,
      "outputs": []
    },
    {
      "cell_type": "code",
      "source": [
        "#(reference: Lab 07)\n",
        "import warnings\n",
        "warnings.filterwarnings(\"ignore\")\n",
        "#quantitative evaluation of the model's performance\n",
        "print(f\"\"\"Classification report for classifier {class_mlp_hog_best_para}:\n",
        "      {metrics.classification_report(y_test, class_mlp_hog_best_predict)}\\n\"\"\")"
      ],
      "metadata": {
        "colab": {
          "base_uri": "https://localhost:8080/"
        },
        "id": "9goDYTucIzbi",
        "outputId": "7fc98682-4ee6-412a-e858-e62b901db723"
      },
      "execution_count": null,
      "outputs": [
        {
          "output_type": "stream",
          "name": "stdout",
          "text": [
            "Classification report for classifier MLPClassifier(activation='tanh', alpha=0.05, hidden_layer_sizes=(3, 3),\n",
            "              max_iter=100, random_state=1, verbose=True):\n",
            "                    precision    recall  f1-score   support\n",
            "\n",
            "           1       0.46      0.32      0.38       329\n",
            "           2       0.00      0.00      0.00        74\n",
            "           3       0.00      0.00      0.00       160\n",
            "           4       0.75      0.81      0.78      1185\n",
            "           5       0.44      0.31      0.37       478\n",
            "           6       0.43      0.30      0.35       162\n",
            "           7       0.47      0.76      0.58       680\n",
            "\n",
            "    accuracy                           0.58      3068\n",
            "   macro avg       0.36      0.36      0.35      3068\n",
            "weighted avg       0.53      0.58      0.54      3068\n",
            "\n",
            "\n"
          ]
        }
      ]
    },
    {
      "cell_type": "code",
      "source": [
        "# (reference : Lab 07)\n",
        "# confusion matrix for mlp_hog model with best hyperparameters\n",
        "metrics.ConfusionMatrixDisplay.from_predictions(y_test, class_mlp_hog_best_predict,cmap=plt.cm.Blues)\n",
        "plt.title('CM for best MLP_HOG model')\n",
        "plt.show()"
      ],
      "metadata": {
        "colab": {
          "base_uri": "https://localhost:8080/",
          "height": 295
        },
        "id": "QuFCL2o1I59i",
        "outputId": "816a5ea4-f4f9-4f12-bf29-93f37fd49a82"
      },
      "execution_count": null,
      "outputs": [
        {
          "output_type": "display_data",
          "data": {
            "text/plain": [
              "<Figure size 432x288 with 2 Axes>"
            ],
            "image/png": "[encoded data removed]"
          },
          "metadata": {
            "needs_background": "light"
          }
        }
      ]
    },
    {
      "cell_type": "code",
      "source": [
        "# (reference : Lab 07)\n",
        "from joblib import dump, load\n",
        "dump(class_mlp_hog_best_para, 'mlp_hog.joblib')"
      ],
      "metadata": {
        "colab": {
          "base_uri": "https://localhost:8080/"
        },
        "id": "VtBZ_xN-Jg3T",
        "outputId": "61734d3f-94b4-45ef-de3e-bf76162c2a3c"
      },
      "execution_count": null,
      "outputs": [
        {
          "output_type": "execute_result",
          "data": {
            "text/plain": [
              "['mlp_hog.joblib']"
            ]
          },
          "metadata": {},
          "execution_count": 27
        }
      ]
    },
    {
      "cell_type": "code",
      "source": [
        "class_mlp_hog_best_para = load('mlp_hog.joblib')"
      ],
      "metadata": {
        "id": "c4CQMJs4JyKC"
      },
      "execution_count": null,
      "outputs": []
    },
    {
      "cell_type": "code",
      "source": [
        ""
      ],
      "metadata": {
        "id": "Rs65-CgiJ52D"
      },
      "execution_count": null,
      "outputs": []
    }
  ]
}