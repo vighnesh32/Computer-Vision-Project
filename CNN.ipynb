{
  "nbformat": 4,
  "nbformat_minor": 0,
  "metadata": {
    "colab": {
      "name": "CNN.ipynb",
      "provenance": [],
      "collapsed_sections": [],
      "machine_shape": "hm"
    },
    "kernelspec": {
      "name": "python3",
      "display_name": "Python 3"
    },
    "language_info": {
      "name": "python"
    },
    "accelerator": "GPU",
    "widgets": {
      "application/vnd.jupyter.widget-state+json": {
        "74db1efc1f824e9daf4ff81a5608479d": {
          "model_module": "@jupyter-widgets/controls",
          "model_name": "HBoxModel",
          "model_module_version": "1.5.0",
          "state": {
            "_dom_classes": [],
            "_model_module": "@jupyter-widgets/controls",
            "_model_module_version": "1.5.0",
            "_model_name": "HBoxModel",
            "_view_count": null,
            "_view_module": "@jupyter-widgets/controls",
            "_view_module_version": "1.5.0",
            "_view_name": "HBoxView",
            "box_style": "",
            "children": [
              "IPY_MODEL_3f19628a93264f179a66f013262e7230",
              "IPY_MODEL_bc643c9e509c4cf6b8db36994484ed70",
              "IPY_MODEL_85e0ee5cebbc48b783cd6b0b7cbfe0e1"
            ],
            "layout": "IPY_MODEL_593931503f554485807413521dbf98a7"
          }
        },
        "3f19628a93264f179a66f013262e7230": {
          "model_module": "@jupyter-widgets/controls",
          "model_name": "HTMLModel",
          "model_module_version": "1.5.0",
          "state": {
            "_dom_classes": [],
            "_model_module": "@jupyter-widgets/controls",
            "_model_module_version": "1.5.0",
            "_model_name": "HTMLModel",
            "_view_count": null,
            "_view_module": "@jupyter-widgets/controls",
            "_view_module_version": "1.5.0",
            "_view_name": "HTMLView",
            "description": "",
            "description_tooltip": null,
            "layout": "IPY_MODEL_0b9a93dae0dc4168a4a74e195a3253e2",
            "placeholder": "​",
            "style": "IPY_MODEL_19426b7560cd421498f5038837e3c420",
            "value": "100%"
          }
        },
        "bc643c9e509c4cf6b8db36994484ed70": {
          "model_module": "@jupyter-widgets/controls",
          "model_name": "FloatProgressModel",
          "model_module_version": "1.5.0",
          "state": {
            "_dom_classes": [],
            "_model_module": "@jupyter-widgets/controls",
            "_model_module_version": "1.5.0",
            "_model_name": "FloatProgressModel",
            "_view_count": null,
            "_view_module": "@jupyter-widgets/controls",
            "_view_module_version": "1.5.0",
            "_view_name": "ProgressView",
            "bar_style": "success",
            "description": "",
            "description_tooltip": null,
            "layout": "IPY_MODEL_a6d246977f6e46a7a388ec8cb35b6b86",
            "max": 244408911,
            "min": 0,
            "orientation": "horizontal",
            "style": "IPY_MODEL_8b980f05b2304ff6bc10283a9f80142c",
            "value": 244408911
          }
        },
        "85e0ee5cebbc48b783cd6b0b7cbfe0e1": {
          "model_module": "@jupyter-widgets/controls",
          "model_name": "HTMLModel",
          "model_module_version": "1.5.0",
          "state": {
            "_dom_classes": [],
            "_model_module": "@jupyter-widgets/controls",
            "_model_module_version": "1.5.0",
            "_model_name": "HTMLModel",
            "_view_count": null,
            "_view_module": "@jupyter-widgets/controls",
            "_view_module_version": "1.5.0",
            "_view_name": "HTMLView",
            "description": "",
            "description_tooltip": null,
            "layout": "IPY_MODEL_fc66b4aff19e4707b90d8b67929599da",
            "placeholder": "​",
            "style": "IPY_MODEL_6a6c3881faa349fab55b6a18bd4dd7db",
            "value": " 233M/233M [00:01&lt;00:00, 157MB/s]"
          }
        },
        "593931503f554485807413521dbf98a7": {
          "model_module": "@jupyter-widgets/base",
          "model_name": "LayoutModel",
          "model_module_version": "1.2.0",
          "state": {
            "_model_module": "@jupyter-widgets/base",
            "_model_module_version": "1.2.0",
            "_model_name": "LayoutModel",
            "_view_count": null,
            "_view_module": "@jupyter-widgets/base",
            "_view_module_version": "1.2.0",
            "_view_name": "LayoutView",
            "align_content": null,
            "align_items": null,
            "align_self": null,
            "border": null,
            "bottom": null,
            "display": null,
            "flex": null,
            "flex_flow": null,
            "grid_area": null,
            "grid_auto_columns": null,
            "grid_auto_flow": null,
            "grid_auto_rows": null,
            "grid_column": null,
            "grid_gap": null,
            "grid_row": null,
            "grid_template_areas": null,
            "grid_template_columns": null,
            "grid_template_rows": null,
            "height": null,
            "justify_content": null,
            "justify_items": null,
            "left": null,
            "margin": null,
            "max_height": null,
            "max_width": null,
            "min_height": null,
            "min_width": null,
            "object_fit": null,
            "object_position": null,
            "order": null,
            "overflow": null,
            "overflow_x": null,
            "overflow_y": null,
            "padding": null,
            "right": null,
            "top": null,
            "visibility": null,
            "width": null
          }
        },
        "0b9a93dae0dc4168a4a74e195a3253e2": {
          "model_module": "@jupyter-widgets/base",
          "model_name": "LayoutModel",
          "model_module_version": "1.2.0",
          "state": {
            "_model_module": "@jupyter-widgets/base",
            "_model_module_version": "1.2.0",
            "_model_name": "LayoutModel",
            "_view_count": null,
            "_view_module": "@jupyter-widgets/base",
            "_view_module_version": "1.2.0",
            "_view_name": "LayoutView",
            "align_content": null,
            "align_items": null,
            "align_self": null,
            "border": null,
            "bottom": null,
            "display": null,
            "flex": null,
            "flex_flow": null,
            "grid_area": null,
            "grid_auto_columns": null,
            "grid_auto_flow": null,
            "grid_auto_rows": null,
            "grid_column": null,
            "grid_gap": null,
            "grid_row": null,
            "grid_template_areas": null,
            "grid_template_columns": null,
            "grid_template_rows": null,
            "height": null,
            "justify_content": null,
            "justify_items": null,
            "left": null,
            "margin": null,
            "max_height": null,
            "max_width": null,
            "min_height": null,
            "min_width": null,
            "object_fit": null,
            "object_position": null,
            "order": null,
            "overflow": null,
            "overflow_x": null,
            "overflow_y": null,
            "padding": null,
            "right": null,
            "top": null,
            "visibility": null,
            "width": null
          }
        },
        "19426b7560cd421498f5038837e3c420": {
          "model_module": "@jupyter-widgets/controls",
          "model_name": "DescriptionStyleModel",
          "model_module_version": "1.5.0",
          "state": {
            "_model_module": "@jupyter-widgets/controls",
            "_model_module_version": "1.5.0",
            "_model_name": "DescriptionStyleModel",
            "_view_count": null,
            "_view_module": "@jupyter-widgets/base",
            "_view_module_version": "1.2.0",
            "_view_name": "StyleView",
            "description_width": ""
          }
        },
        "a6d246977f6e46a7a388ec8cb35b6b86": {
          "model_module": "@jupyter-widgets/base",
          "model_name": "LayoutModel",
          "model_module_version": "1.2.0",
          "state": {
            "_model_module": "@jupyter-widgets/base",
            "_model_module_version": "1.2.0",
            "_model_name": "LayoutModel",
            "_view_count": null,
            "_view_module": "@jupyter-widgets/base",
            "_view_module_version": "1.2.0",
            "_view_name": "LayoutView",
            "align_content": null,
            "align_items": null,
            "align_self": null,
            "border": null,
            "bottom": null,
            "display": null,
            "flex": null,
            "flex_flow": null,
            "grid_area": null,
            "grid_auto_columns": null,
            "grid_auto_flow": null,
            "grid_auto_rows": null,
            "grid_column": null,
            "grid_gap": null,
            "grid_row": null,
            "grid_template_areas": null,
            "grid_template_columns": null,
            "grid_template_rows": null,
            "height": null,
            "justify_content": null,
            "justify_items": null,
            "left": null,
            "margin": null,
            "max_height": null,
            "max_width": null,
            "min_height": null,
            "min_width": null,
            "object_fit": null,
            "object_position": null,
            "order": null,
            "overflow": null,
            "overflow_x": null,
            "overflow_y": null,
            "padding": null,
            "right": null,
            "top": null,
            "visibility": null,
            "width": null
          }
        },
        "8b980f05b2304ff6bc10283a9f80142c": {
          "model_module": "@jupyter-widgets/controls",
          "model_name": "ProgressStyleModel",
          "model_module_version": "1.5.0",
          "state": {
            "_model_module": "@jupyter-widgets/controls",
            "_model_module_version": "1.5.0",
            "_model_name": "ProgressStyleModel",
            "_view_count": null,
            "_view_module": "@jupyter-widgets/base",
            "_view_module_version": "1.2.0",
            "_view_name": "StyleView",
            "bar_color": null,
            "description_width": ""
          }
        },
        "fc66b4aff19e4707b90d8b67929599da": {
          "model_module": "@jupyter-widgets/base",
          "model_name": "LayoutModel",
          "model_module_version": "1.2.0",
          "state": {
            "_model_module": "@jupyter-widgets/base",
            "_model_module_version": "1.2.0",
            "_model_name": "LayoutModel",
            "_view_count": null,
            "_view_module": "@jupyter-widgets/base",
            "_view_module_version": "1.2.0",
            "_view_name": "LayoutView",
            "align_content": null,
            "align_items": null,
            "align_self": null,
            "border": null,
            "bottom": null,
            "display": null,
            "flex": null,
            "flex_flow": null,
            "grid_area": null,
            "grid_auto_columns": null,
            "grid_auto_flow": null,
            "grid_auto_rows": null,
            "grid_column": null,
            "grid_gap": null,
            "grid_row": null,
            "grid_template_areas": null,
            "grid_template_columns": null,
            "grid_template_rows": null,
            "height": null,
            "justify_content": null,
            "justify_items": null,
            "left": null,
            "margin": null,
            "max_height": null,
            "max_width": null,
            "min_height": null,
            "min_width": null,
            "object_fit": null,
            "object_position": null,
            "order": null,
            "overflow": null,
            "overflow_x": null,
            "overflow_y": null,
            "padding": null,
            "right": null,
            "top": null,
            "visibility": null,
            "width": null
          }
        },
        "6a6c3881faa349fab55b6a18bd4dd7db": {
          "model_module": "@jupyter-widgets/controls",
          "model_name": "DescriptionStyleModel",
          "model_module_version": "1.5.0",
          "state": {
            "_model_module": "@jupyter-widgets/controls",
            "_model_module_version": "1.5.0",
            "_model_name": "DescriptionStyleModel",
            "_view_count": null,
            "_view_module": "@jupyter-widgets/base",
            "_view_module_version": "1.2.0",
            "_view_name": "StyleView",
            "description_width": ""
          }
        },
        "7038362a2bc54a9299e6ae0d0d2a9ab9": {
          "model_module": "@jupyter-widgets/controls",
          "model_name": "HBoxModel",
          "model_module_version": "1.5.0",
          "state": {
            "_dom_classes": [],
            "_model_module": "@jupyter-widgets/controls",
            "_model_module_version": "1.5.0",
            "_model_name": "HBoxModel",
            "_view_count": null,
            "_view_module": "@jupyter-widgets/controls",
            "_view_module_version": "1.5.0",
            "_view_name": "HBoxView",
            "box_style": "",
            "children": [
              "IPY_MODEL_7ea8e1da24ac46979e4c810b655044ef",
              "IPY_MODEL_93ff55fb1f344246aaf4eec3c3955b42",
              "IPY_MODEL_8dd802d82ced4f9187f61af31af9c0bb"
            ],
            "layout": "IPY_MODEL_ce7b14051a8b4692a072bb4e84bba3a6"
          }
        },
        "7ea8e1da24ac46979e4c810b655044ef": {
          "model_module": "@jupyter-widgets/controls",
          "model_name": "HTMLModel",
          "model_module_version": "1.5.0",
          "state": {
            "_dom_classes": [],
            "_model_module": "@jupyter-widgets/controls",
            "_model_module_version": "1.5.0",
            "_model_name": "HTMLModel",
            "_view_count": null,
            "_view_module": "@jupyter-widgets/controls",
            "_view_module_version": "1.5.0",
            "_view_name": "HTMLView",
            "description": "",
            "description_tooltip": null,
            "layout": "IPY_MODEL_26a6eca7adb84bcc8ca15f377044f4a9",
            "placeholder": "​",
            "style": "IPY_MODEL_0bd227274ee0419db2cf3c883807869c",
            "value": "100%"
          }
        },
        "93ff55fb1f344246aaf4eec3c3955b42": {
          "model_module": "@jupyter-widgets/controls",
          "model_name": "FloatProgressModel",
          "model_module_version": "1.5.0",
          "state": {
            "_dom_classes": [],
            "_model_module": "@jupyter-widgets/controls",
            "_model_module_version": "1.5.0",
            "_model_name": "FloatProgressModel",
            "_view_count": null,
            "_view_module": "@jupyter-widgets/controls",
            "_view_module_version": "1.5.0",
            "_view_name": "ProgressView",
            "bar_style": "success",
            "description": "",
            "description_tooltip": null,
            "layout": "IPY_MODEL_a3c733ee664e40a9b22d51d20286393a",
            "max": 553433881,
            "min": 0,
            "orientation": "horizontal",
            "style": "IPY_MODEL_01b3eecab9c347828f3a2b712f9cdb6f",
            "value": 553433881
          }
        },
        "8dd802d82ced4f9187f61af31af9c0bb": {
          "model_module": "@jupyter-widgets/controls",
          "model_name": "HTMLModel",
          "model_module_version": "1.5.0",
          "state": {
            "_dom_classes": [],
            "_model_module": "@jupyter-widgets/controls",
            "_model_module_version": "1.5.0",
            "_model_name": "HTMLModel",
            "_view_count": null,
            "_view_module": "@jupyter-widgets/controls",
            "_view_module_version": "1.5.0",
            "_view_name": "HTMLView",
            "description": "",
            "description_tooltip": null,
            "layout": "IPY_MODEL_374adde561234629905787ba5bccdc93",
            "placeholder": "​",
            "style": "IPY_MODEL_cd22aea3067a45648b33150b1ee32e84",
            "value": " 528M/528M [00:03&lt;00:00, 156MB/s]"
          }
        },
        "ce7b14051a8b4692a072bb4e84bba3a6": {
          "model_module": "@jupyter-widgets/base",
          "model_name": "LayoutModel",
          "model_module_version": "1.2.0",
          "state": {
            "_model_module": "@jupyter-widgets/base",
            "_model_module_version": "1.2.0",
            "_model_name": "LayoutModel",
            "_view_count": null,
            "_view_module": "@jupyter-widgets/base",
            "_view_module_version": "1.2.0",
            "_view_name": "LayoutView",
            "align_content": null,
            "align_items": null,
            "align_self": null,
            "border": null,
            "bottom": null,
            "display": null,
            "flex": null,
            "flex_flow": null,
            "grid_area": null,
            "grid_auto_columns": null,
            "grid_auto_flow": null,
            "grid_auto_rows": null,
            "grid_column": null,
            "grid_gap": null,
            "grid_row": null,
            "grid_template_areas": null,
            "grid_template_columns": null,
            "grid_template_rows": null,
            "height": null,
            "justify_content": null,
            "justify_items": null,
            "left": null,
            "margin": null,
            "max_height": null,
            "max_width": null,
            "min_height": null,
            "min_width": null,
            "object_fit": null,
            "object_position": null,
            "order": null,
            "overflow": null,
            "overflow_x": null,
            "overflow_y": null,
            "padding": null,
            "right": null,
            "top": null,
            "visibility": null,
            "width": null
          }
        },
        "26a6eca7adb84bcc8ca15f377044f4a9": {
          "model_module": "@jupyter-widgets/base",
          "model_name": "LayoutModel",
          "model_module_version": "1.2.0",
          "state": {
            "_model_module": "@jupyter-widgets/base",
            "_model_module_version": "1.2.0",
            "_model_name": "LayoutModel",
            "_view_count": null,
            "_view_module": "@jupyter-widgets/base",
            "_view_module_version": "1.2.0",
            "_view_name": "LayoutView",
            "align_content": null,
            "align_items": null,
            "align_self": null,
            "border": null,
            "bottom": null,
            "display": null,
            "flex": null,
            "flex_flow": null,
            "grid_area": null,
            "grid_auto_columns": null,
            "grid_auto_flow": null,
            "grid_auto_rows": null,
            "grid_column": null,
            "grid_gap": null,
            "grid_row": null,
            "grid_template_areas": null,
            "grid_template_columns": null,
            "grid_template_rows": null,
            "height": null,
            "justify_content": null,
            "justify_items": null,
            "left": null,
            "margin": null,
            "max_height": null,
            "max_width": null,
            "min_height": null,
            "min_width": null,
            "object_fit": null,
            "object_position": null,
            "order": null,
            "overflow": null,
            "overflow_x": null,
            "overflow_y": null,
            "padding": null,
            "right": null,
            "top": null,
            "visibility": null,
            "width": null
          }
        },
        "0bd227274ee0419db2cf3c883807869c": {
          "model_module": "@jupyter-widgets/controls",
          "model_name": "DescriptionStyleModel",
          "model_module_version": "1.5.0",
          "state": {
            "_model_module": "@jupyter-widgets/controls",
            "_model_module_version": "1.5.0",
            "_model_name": "DescriptionStyleModel",
            "_view_count": null,
            "_view_module": "@jupyter-widgets/base",
            "_view_module_version": "1.2.0",
            "_view_name": "StyleView",
            "description_width": ""
          }
        },
        "a3c733ee664e40a9b22d51d20286393a": {
          "model_module": "@jupyter-widgets/base",
          "model_name": "LayoutModel",
          "model_module_version": "1.2.0",
          "state": {
            "_model_module": "@jupyter-widgets/base",
            "_model_module_version": "1.2.0",
            "_model_name": "LayoutModel",
            "_view_count": null,
            "_view_module": "@jupyter-widgets/base",
            "_view_module_version": "1.2.0",
            "_view_name": "LayoutView",
            "align_content": null,
            "align_items": null,
            "align_self": null,
            "border": null,
            "bottom": null,
            "display": null,
            "flex": null,
            "flex_flow": null,
            "grid_area": null,
            "grid_auto_columns": null,
            "grid_auto_flow": null,
            "grid_auto_rows": null,
            "grid_column": null,
            "grid_gap": null,
            "grid_row": null,
            "grid_template_areas": null,
            "grid_template_columns": null,
            "grid_template_rows": null,
            "height": null,
            "justify_content": null,
            "justify_items": null,
            "left": null,
            "margin": null,
            "max_height": null,
            "max_width": null,
            "min_height": null,
            "min_width": null,
            "object_fit": null,
            "object_position": null,
            "order": null,
            "overflow": null,
            "overflow_x": null,
            "overflow_y": null,
            "padding": null,
            "right": null,
            "top": null,
            "visibility": null,
            "width": null
          }
        },
        "01b3eecab9c347828f3a2b712f9cdb6f": {
          "model_module": "@jupyter-widgets/controls",
          "model_name": "ProgressStyleModel",
          "model_module_version": "1.5.0",
          "state": {
            "_model_module": "@jupyter-widgets/controls",
            "_model_module_version": "1.5.0",
            "_model_name": "ProgressStyleModel",
            "_view_count": null,
            "_view_module": "@jupyter-widgets/base",
            "_view_module_version": "1.2.0",
            "_view_name": "StyleView",
            "bar_color": null,
            "description_width": ""
          }
        },
        "374adde561234629905787ba5bccdc93": {
          "model_module": "@jupyter-widgets/base",
          "model_name": "LayoutModel",
          "model_module_version": "1.2.0",
          "state": {
            "_model_module": "@jupyter-widgets/base",
            "_model_module_version": "1.2.0",
            "_model_name": "LayoutModel",
            "_view_count": null,
            "_view_module": "@jupyter-widgets/base",
            "_view_module_version": "1.2.0",
            "_view_name": "LayoutView",
            "align_content": null,
            "align_items": null,
            "align_self": null,
            "border": null,
            "bottom": null,
            "display": null,
            "flex": null,
            "flex_flow": null,
            "grid_area": null,
            "grid_auto_columns": null,
            "grid_auto_flow": null,
            "grid_auto_rows": null,
            "grid_column": null,
            "grid_gap": null,
            "grid_row": null,
            "grid_template_areas": null,
            "grid_template_columns": null,
            "grid_template_rows": null,
            "height": null,
            "justify_content": null,
            "justify_items": null,
            "left": null,
            "margin": null,
            "max_height": null,
            "max_width": null,
            "min_height": null,
            "min_width": null,
            "object_fit": null,
            "object_position": null,
            "order": null,
            "overflow": null,
            "overflow_x": null,
            "overflow_y": null,
            "padding": null,
            "right": null,
            "top": null,
            "visibility": null,
            "width": null
          }
        },
        "cd22aea3067a45648b33150b1ee32e84": {
          "model_module": "@jupyter-widgets/controls",
          "model_name": "DescriptionStyleModel",
          "model_module_version": "1.5.0",
          "state": {
            "_model_module": "@jupyter-widgets/controls",
            "_model_module_version": "1.5.0",
            "_model_name": "DescriptionStyleModel",
            "_view_count": null,
            "_view_module": "@jupyter-widgets/base",
            "_view_module_version": "1.2.0",
            "_view_name": "StyleView",
            "description_width": ""
          }
        }
      }
    }
  },
  "cells": [
    {
      "cell_type": "markdown",
      "source": [
        "### Vighnesh Mane (210021607) - PG"
      ],
      "metadata": {
        "id": "tfmKaEjIIuxn"
      }
    },
    {
      "cell_type": "code",
      "execution_count": null,
      "metadata": {
        "colab": {
          "base_uri": "https://localhost:8080/"
        },
        "id": "UTyjQraC-eb4",
        "outputId": "9f3525de-0006-4538-c930-c99d40f40439"
      },
      "outputs": [
        {
          "output_type": "stream",
          "name": "stdout",
          "text": [
            "cuda:0\n"
          ]
        }
      ],
      "source": [
        "# (reference : Lab 08)\n",
        "import torch\n",
        "\n",
        "device = torch.device(\"cuda:0\" if torch.cuda.is_available() else \"cpu\")\n",
        "\n",
        "# Assuming that we are on a CUDA machine, this should print a CUDA device:\n",
        "print(device)"
      ]
    },
    {
      "cell_type": "code",
      "source": [
        "# Google Colab Setup (reference: Lab 07)\n",
        "from google.colab import drive\n",
        "drive.mount('/content/drive')"
      ],
      "metadata": {
        "colab": {
          "base_uri": "https://localhost:8080/"
        },
        "id": "SDCNNSTU-hZF",
        "outputId": "278ca5fc-478f-4db5-8cad-dcf58d456c29"
      },
      "execution_count": null,
      "outputs": [
        {
          "output_type": "stream",
          "name": "stdout",
          "text": [
            "Mounted at /content/drive\n"
          ]
        }
      ]
    },
    {
      "cell_type": "code",
      "source": [
        "# recall the path in Google Drive (reference: Lab 07)\n",
        "import os\n",
        "GOOGLE_DRIVE_PATH_AFTER_MYDRIVE = 'CW_Folder_PG' \n",
        "GOOGLE_DRIVE_PATH = os.path.join('drive', 'My Drive', GOOGLE_DRIVE_PATH_AFTER_MYDRIVE)\n",
        "print(os.listdir(GOOGLE_DRIVE_PATH))"
      ],
      "metadata": {
        "colab": {
          "base_uri": "https://localhost:8080/"
        },
        "id": "laT9fcIk-jkx",
        "outputId": "975e61b5-b937-4bab-bc3f-ed39cf0b5770"
      },
      "execution_count": null,
      "outputs": [
        {
          "output_type": "stream",
          "name": "stdout",
          "text": [
            "['README.txt', 'labels', 'CW_Dataset.zip', '.DS_Store', 'Video', 'Code', 'Models', 'test_functions.ipynb']\n"
          ]
        }
      ]
    },
    {
      "cell_type": "code",
      "source": [
        "GOOGLE_DRIVE_PATH"
      ],
      "metadata": {
        "colab": {
          "base_uri": "https://localhost:8080/",
          "height": 36
        },
        "id": "J9WvJs4v-rlP",
        "outputId": "b1506a96-daac-45b4-d1a0-e3d6160d68ec"
      },
      "execution_count": null,
      "outputs": [
        {
          "output_type": "execute_result",
          "data": {
            "text/plain": [
              "'drive/My Drive/CW_Folder_PG'"
            ],
            "application/vnd.google.colaboratory.intrinsic+json": {
              "type": "string"
            }
          },
          "metadata": {},
          "execution_count": 4
        }
      ]
    },
    {
      "cell_type": "code",
      "source": [
        "# update opencv (reference: Lab 07)\n",
        "!pip install opencv-python==4.5.5.64"
      ],
      "metadata": {
        "colab": {
          "base_uri": "https://localhost:8080/"
        },
        "id": "4QvcE6GO-vSe",
        "outputId": "9ec1a462-5c64-48eb-c815-b5eb5be0963a"
      },
      "execution_count": null,
      "outputs": [
        {
          "output_type": "stream",
          "name": "stdout",
          "text": [
            "Collecting opencv-python==4.5.5.64\n",
            "  Downloading opencv_python-4.5.5.64-cp36-abi3-manylinux_2_17_x86_64.manylinux2014_x86_64.whl (60.5 MB)\n",
            "\u001b[K     |████████████████████████████████| 60.5 MB 138.8 MB/s \n",
            "\u001b[?25hRequirement already satisfied: numpy>=1.14.5 in /usr/local/lib/python3.7/dist-packages (from opencv-python==4.5.5.64) (1.21.6)\n",
            "Installing collected packages: opencv-python\n",
            "  Attempting uninstall: opencv-python\n",
            "    Found existing installation: opencv-python 4.1.2.30\n",
            "    Uninstalling opencv-python-4.1.2.30:\n",
            "      Successfully uninstalled opencv-python-4.1.2.30\n",
            "\u001b[31mERROR: pip's dependency resolver does not currently take into account all the packages that are installed. This behaviour is the source of the following dependency conflicts.\n",
            "albumentations 0.1.12 requires imgaug<0.2.7,>=0.2.5, but you have imgaug 0.2.9 which is incompatible.\u001b[0m\n",
            "Successfully installed opencv-python-4.5.5.64\n"
          ]
        }
      ]
    },
    {
      "cell_type": "code",
      "source": [
        "# check correct opencv version (reference: Lab 07)\n",
        "!pip show opencv-python"
      ],
      "metadata": {
        "colab": {
          "base_uri": "https://localhost:8080/"
        },
        "id": "h9ZDF2vk-yuU",
        "outputId": "10e5bdbf-1e63-4ccf-ff47-56b05f205dfa"
      },
      "execution_count": null,
      "outputs": [
        {
          "output_type": "stream",
          "name": "stdout",
          "text": [
            "Name: opencv-python\n",
            "Version: 4.5.5.64\n",
            "Summary: Wrapper package for OpenCV python bindings.\n",
            "Home-page: https://github.com/skvark/opencv-python\n",
            "Author: None\n",
            "Author-email: None\n",
            "License: MIT\n",
            "Location: /usr/local/lib/python3.7/dist-packages\n",
            "Requires: numpy\n",
            "Required-by: imgaug, dopamine-rl, albumentations\n"
          ]
        }
      ]
    },
    {
      "cell_type": "code",
      "source": [
        "# copy and unzip dataset directly on the Colab server (reference: Lab 07)\n",
        "# Identify path to zipped dataset\n",
        "zip_path = os.path.join(GOOGLE_DRIVE_PATH, 'CW_Dataset.zip')\n",
        "\n",
        "# Copy it to Colab\n",
        "!cp '{zip_path}' .\n",
        "\n",
        "# Unzip it\n",
        "!yes|unzip -q CW_Dataset.zip\n",
        "\n",
        "# Delete zipped version from Colab (not from Drive)\n",
        "!rm CW_Dataset.zip"
      ],
      "metadata": {
        "id": "ULAyyIin-14Q"
      },
      "execution_count": null,
      "outputs": []
    },
    {
      "cell_type": "code",
      "source": [
        "# import libraries\n",
        "import cv2\n",
        "from sklearn.model_selection import train_test_split\n",
        "from skimage import img_as_ubyte, io, color\n",
        "from sklearn.cluster import MiniBatchKMeans\n",
        "from sklearn import svm, metrics\n",
        "import matplotlib.pyplot as plt\n",
        "import numpy as np\n",
        "from collections import Counter\n",
        "import os\n",
        "import pandas as pd\n",
        "import torch\n",
        "from torch.utils.data import Dataset\n",
        "from torchvision import datasets\n",
        "from torchvision.transforms import ToTensor\n",
        "import matplotlib.pyplot as plt\n",
        "import torchvision\n",
        "import torch.nn.functional as F\n",
        "from PIL import Image\n",
        "import torchvision.transforms as transforms\n",
        "import torch.optim as optim\n",
        "from torch.optim import lr_scheduler\n",
        "%matplotlib inline"
      ],
      "metadata": {
        "id": "jRFx8Vby-5V8"
      },
      "execution_count": null,
      "outputs": []
    },
    {
      "cell_type": "code",
      "source": [
        "from torch.utils import data\n",
        "# (reference : https://pytorch.org/tutorials/beginner/basics/data_tutorial.html#loading-a-dataset)\n",
        "# creating the custom dataset for the image files\n",
        "class CNN_func(Dataset):\n",
        "\n",
        "  def __init__(self, data_file, root, transform = None):\n",
        "    self.data_file = data_file\n",
        "    self.root = root\n",
        "    self.transform = transform\n",
        "\n",
        "  def __len__(self):\n",
        "    return len(self.data_file)\n",
        "\n",
        "  def __getitem__(self, idx):\n",
        "    if torch.is_tensor(idx):\n",
        "      idx = idx.tolist()\n",
        "\n",
        "    img_path = os.path.join(self.root, self.data_file.iloc[idx, 0])\n",
        "    img = Image.open(img_path)\n",
        "    label = self.data_file.iloc[idx, 1]\n",
        "\n",
        "    if self.transform:\n",
        "      img = self.transform(img)\n",
        "  \n",
        "    return img, label\n",
        "  "
      ],
      "metadata": {
        "id": "m_U1LdLc-8iV"
      },
      "execution_count": null,
      "outputs": []
    },
    {
      "cell_type": "code",
      "source": [
        "# creating columns\n",
        "columns = [\"Img_id\", \"Label\"]\n",
        "# training labels path\n",
        "train_txt = \"/content/labels/list_label_train.txt\"\n",
        "# reference : https://stackoverflow.com/questions/29287224/pandas-read-in-table-without-headers\n",
        "train_set = pd.read_csv(train_txt, names = columns, header = None, delim_whitespace = True)\n",
        "train_set[\"Img_id\"] = train_set[\"Img_id\"].apply(lambda i: i[:-4])\n",
        "# adding \"_aligned.jpg\" files\n",
        "train_set[\"Img_id\"] = train_set[\"Img_id\"] + \"_aligned.jpg\"\n",
        "train_set[\"Label\"] = train_set[\"Label\"].apply(lambda i: i - 1)# reindexing\n",
        "\n",
        "# texting labels path\n",
        "test_txt = \"/content/labels/list_label_test.txt\"\n",
        "# reference : https://stackoverflow.com/questions/29287224/pandas-read-in-table-without-headers\n",
        "test_set = pd.read_csv(test_txt, names = columns, header = None, delim_whitespace = True)\n",
        "test_set[\"Img_id\"] = test_set[\"Img_id\"].apply(lambda i: i[:-4])\n",
        "# adding \"_aligned.jpg\" files\n",
        "test_set[\"Img_id\"] = test_set[\"Img_id\"] + \"_aligned.jpg\"\n",
        "test_set[\"Label\"] = test_set[\"Label\"].apply(lambda i: i - 1)# reindexing\n",
        "\n",
        "\n"
      ],
      "metadata": {
        "id": "27aDVlUH_O2c"
      },
      "execution_count": null,
      "outputs": []
    },
    {
      "cell_type": "code",
      "source": [
        "# (reference: Lab 08)\n",
        "# We'll apply image changes to each loaded image.\n",
        "transform = transforms.Compose(\n",
        "    [transforms.ToTensor(),\n",
        "     transforms.Normalize((0.5, 0.5, 0.5), (0.5, 0.5, 0.5))])"
      ],
      "metadata": {
        "id": "07wRItGk_jIV"
      },
      "execution_count": null,
      "outputs": []
    },
    {
      "cell_type": "code",
      "source": [
        "train_image_path = \"/content/train\" # train images path\n",
        "test_image_path = \"/content/test\"   # test images path\n",
        "train_img = CNN_func(data_file = train_set, root = train_image_path, transform = transform)\n",
        "test_img = CNN_func(data_file = test_set,root = test_image_path, transform = transform)"
      ],
      "metadata": {
        "id": "_kikhqH8A6n7"
      },
      "execution_count": null,
      "outputs": []
    },
    {
      "cell_type": "code",
      "source": [
        "# (reference : Lab 08)\n",
        "# dataloader helps us in handling our data\n",
        "trainloader = torch.utils.data.DataLoader(train_img, batch_size=64,shuffle=True, num_workers=2)\n",
        "testloader = torch.utils.data.DataLoader(test_img, batch_size=64,shuffle=False, num_workers=2)"
      ],
      "metadata": {
        "id": "CoPoTjAtBBjo"
      },
      "execution_count": null,
      "outputs": []
    },
    {
      "cell_type": "code",
      "source": [
        "# (reference : Lab 08)\n",
        "# define a Convolutional Neural Network\n",
        "import torch.nn as nn\n",
        "class Net(nn.Module):\n",
        "    def __init__(self):\n",
        "        super().__init__()\n",
        "        self.conv1 = nn.Conv2d(3, 6, 5)\n",
        "        self.pool = nn.MaxPool2d(2, 2)\n",
        "        self.conv2 = nn.Conv2d(6, 16, 5)\n",
        "        self.fc1 = nn.Linear(16 * 22 * 22 , 120)\n",
        "        self.fc2 = nn.Linear(120, 84)\n",
        "        self.fc3 = nn.Linear(84, 8)\n",
        "\n",
        "    def forward(self, x):\n",
        "        x = self.pool(F.relu(self.conv1(x)))\n",
        "        x = self.pool(F.relu(self.conv2(x)))\n",
        "        x = x.view(x.size(0), 16 * 22 *22)\n",
        "        x = F.relu(self.fc1(x))\n",
        "        x = F.relu(self.fc2(x))\n",
        "        x = self.fc3(x)\n",
        "        return x"
      ],
      "metadata": {
        "id": "VVymheUWBE_q"
      },
      "execution_count": null,
      "outputs": []
    },
    {
      "cell_type": "code",
      "source": [
        "# define cnn model\n",
        "net = Net()\n",
        "criterion = nn.CrossEntropyLoss().cuda()\n",
        "optimizer = optim.SGD(net.parameters(), lr=0.001, momentum=0.9)"
      ],
      "metadata": {
        "id": "54hUPw1GBKcS"
      },
      "execution_count": null,
      "outputs": []
    },
    {
      "cell_type": "code",
      "source": [
        "count = 0\n",
        "cnn_loss_list = []\n",
        "iteration_list = []\n",
        "cnn_accuracy_list = []\n",
        "epochs = 30\n",
        "\n",
        "for epoch in range(epochs):\n",
        "    for i, (images, labels) in enumerate(trainloader):\n",
        "            net = net.cuda()\n",
        "\n",
        "            optimizer.zero_grad()\n",
        "            outputs = net(images.cuda())\n",
        "            cnn_loss = criterion(outputs.cuda(), labels.cuda())\n",
        "            cnn_loss.backward()\n",
        "            optimizer.step()\n",
        "\n",
        "            count += 1\n",
        "\n",
        "            if count % 50 == 0:\n",
        "                correct = 0\n",
        "                total = 0\n",
        "\n",
        "                for i, (images, labels) in enumerate(testloader):\n",
        "\n",
        "                    outputs = net(images.cuda())\n",
        "                    predicted = torch.max(outputs.data, 1)[1]\n",
        "                    total += len(labels)\n",
        "                    correct += (predicted == labels.cuda()).sum()\n",
        "                cnn_accuracy = 100 * correct / float(total)\n",
        "\n",
        "                cnn_loss_list.append(cnn_loss.data)\n",
        "                iteration_list.append(count)\n",
        "                cnn_accuracy_list.append(cnn_accuracy)\n",
        "\n",
        "                if count % 500 == 0:\n",
        "                    print(\"Iteration: {} - Loss: {} - CNN Accuracy: {} %\".format(count, cnn_loss.data, cnn_accuracy))"
      ],
      "metadata": {
        "colab": {
          "base_uri": "https://localhost:8080/"
        },
        "id": "sGkDUSJXBY80",
        "outputId": "adc5be4c-c7b9-4f37-c964-20426d4b0b22"
      },
      "execution_count": null,
      "outputs": [
        {
          "output_type": "stream",
          "name": "stdout",
          "text": [
            "Iteration: 500 - Loss: 1.7525436878204346 - CNN Accuracy: 39.89569854736328 %\n",
            "Iteration: 1000 - Loss: 1.0875189304351807 - CNN Accuracy: 57.65971374511719 %\n",
            "Iteration: 1500 - Loss: 1.1163686513900757 - CNN Accuracy: 64.0482406616211 %\n",
            "Iteration: 2000 - Loss: 0.8826941847801208 - CNN Accuracy: 64.92829132080078 %\n",
            "Iteration: 2500 - Loss: 0.7190779447555542 - CNN Accuracy: 68.90482330322266 %\n",
            "Iteration: 3000 - Loss: 0.49588510394096375 - CNN Accuracy: 67.50325775146484 %\n",
            "Iteration: 3500 - Loss: 0.6414547562599182 - CNN Accuracy: 71.08865356445312 %\n",
            "Iteration: 4000 - Loss: 0.44594240188598633 - CNN Accuracy: 71.41460418701172 %\n",
            "Iteration: 4500 - Loss: 0.2987789511680603 - CNN Accuracy: 70.73011779785156 %\n",
            "Iteration: 5000 - Loss: 0.23350264132022858 - CNN Accuracy: 71.80573272705078 %\n",
            "Iteration: 5500 - Loss: 0.15876588225364685 - CNN Accuracy: 70.56714630126953 %\n"
          ]
        }
      ]
    },
    {
      "cell_type": "code",
      "source": [
        "from torchvision import models\n",
        "alexnet_cnn = models.alexnet(pretrained = True) # define alexnet model\n",
        "criterion = nn.CrossEntropyLoss().cuda()\n",
        "optimizer_ft = optim.SGD(alexnet_cnn.parameters(), lr=0.001, momentum=0.9)"
      ],
      "metadata": {
        "colab": {
          "base_uri": "https://localhost:8080/",
          "height": 67,
          "referenced_widgets": [
            "74db1efc1f824e9daf4ff81a5608479d",
            "3f19628a93264f179a66f013262e7230",
            "bc643c9e509c4cf6b8db36994484ed70",
            "85e0ee5cebbc48b783cd6b0b7cbfe0e1",
            "593931503f554485807413521dbf98a7",
            "0b9a93dae0dc4168a4a74e195a3253e2",
            "19426b7560cd421498f5038837e3c420",
            "a6d246977f6e46a7a388ec8cb35b6b86",
            "8b980f05b2304ff6bc10283a9f80142c",
            "fc66b4aff19e4707b90d8b67929599da",
            "6a6c3881faa349fab55b6a18bd4dd7db"
          ]
        },
        "id": "Hz42CZehCyCL",
        "outputId": "ddce9e08-8460-4206-e065-bdf7994881e4"
      },
      "execution_count": null,
      "outputs": [
        {
          "output_type": "stream",
          "name": "stderr",
          "text": [
            "Downloading: \"https://download.pytorch.org/models/alexnet-owt-7be5be79.pth\" to /root/.cache/torch/hub/checkpoints/alexnet-owt-7be5be79.pth\n"
          ]
        },
        {
          "output_type": "display_data",
          "data": {
            "text/plain": [
              "  0%|          | 0.00/233M [00:00<?, ?B/s]"
            ],
            "application/vnd.jupyter.widget-view+json": {
              "version_major": 2,
              "version_minor": 0,
              "model_id": "74db1efc1f824e9daf4ff81a5608479d"
            }
          },
          "metadata": {}
        }
      ]
    },
    {
      "cell_type": "code",
      "source": [
        "# (reference : https://ai-pool.com/a/s/end-to-end-pytorch-example-of-image-classification-with-convolutional-neural-networks)\n",
        "count = 0\n",
        "an_loss_list = []\n",
        "iteration_list = []\n",
        "an_acc_list = []\n",
        "epochs = 30\n",
        "\n",
        "for epoch in range(epochs):\n",
        "    for i, (images, labels) in enumerate(trainloader):\n",
        "            alexnet_cnn = alexnet_cnn.cuda()\n",
        "\n",
        "            optimizer_ft.zero_grad()\n",
        "            outputs = alexnet_cnn(images.cuda())\n",
        "            an_loss = criterion(outputs.cuda(), labels.cuda())\n",
        "            an_loss.backward()\n",
        "            optimizer_ft.step()\n",
        "\n",
        "            count += 1\n",
        "\n",
        "            if count % 50 == 0:\n",
        "                correct = 0\n",
        "                total = 0\n",
        "\n",
        "                for i, (images, labels) in enumerate(testloader):\n",
        "\n",
        "                    outputs = alexnet_cnn(images.cuda())\n",
        "                    predicted = torch.max(outputs.data, 1)[1]\n",
        "                    total += len(labels)\n",
        "                    correct += (predicted == labels.cuda()).sum()\n",
        "                an_acc = 100 * correct / float(total)\n",
        "\n",
        "                an_loss_list.append(an_loss.data)\n",
        "                iteration_list.append(count)\n",
        "                an_acc_list.append(an_acc)\n",
        "\n",
        "                if count % 500 == 0:\n",
        "                    print(\"Iteration: {} Loss: {} AlexNet Accuracy: {} %\".format(count, an_loss.data, an_acc))"
      ],
      "metadata": {
        "colab": {
          "base_uri": "https://localhost:8080/"
        },
        "id": "O4yRe1DYBtBW",
        "outputId": "3bb478ba-5a6e-4509-8050-75944c04538d"
      },
      "execution_count": null,
      "outputs": [
        {
          "output_type": "stream",
          "name": "stdout",
          "text": [
            "Iteration: 500 Loss: 1.0599859952926636 AlexNet Accuracy: 64.99347686767578 %\n",
            "Iteration: 1000 Loss: 0.6581395864486694 AlexNet Accuracy: 69.06779479980469 %\n",
            "Iteration: 1500 Loss: 0.5107983946800232 AlexNet Accuracy: 71.41460418701172 %\n",
            "Iteration: 2000 Loss: 0.5949724912643433 AlexNet Accuracy: 71.44719696044922 %\n",
            "Iteration: 2500 Loss: 0.2940003573894501 AlexNet Accuracy: 72.685791015625 %\n",
            "Iteration: 3000 Loss: 0.31922370195388794 AlexNet Accuracy: 73.56584167480469 %\n",
            "Iteration: 3500 Loss: 0.11006597429513931 AlexNet Accuracy: 74.73924255371094 %\n",
            "Iteration: 4000 Loss: 0.133872851729393 AlexNet Accuracy: 73.40287017822266 %\n",
            "Iteration: 4500 Loss: 0.06486912071704865 AlexNet Accuracy: 74.28292083740234 %\n",
            "Iteration: 5000 Loss: 0.016297994181513786 AlexNet Accuracy: 74.28292083740234 %\n",
            "Iteration: 5500 Loss: 0.015553765930235386 AlexNet Accuracy: 74.38069915771484 %\n"
          ]
        }
      ]
    },
    {
      "cell_type": "code",
      "source": [
        "vgg16_cnn = models.vgg16(pretrained = True) # define vgg16 model\n",
        "criterion = nn.CrossEntropyLoss().cuda()\n",
        "optimizer_ft = optim.SGD(vgg16_cnn.parameters(), lr=0.001, momentum=0.9)"
      ],
      "metadata": {
        "id": "UBvTc4TWGguA",
        "colab": {
          "base_uri": "https://localhost:8080/",
          "height": 67,
          "referenced_widgets": [
            "7038362a2bc54a9299e6ae0d0d2a9ab9",
            "7ea8e1da24ac46979e4c810b655044ef",
            "93ff55fb1f344246aaf4eec3c3955b42",
            "8dd802d82ced4f9187f61af31af9c0bb",
            "ce7b14051a8b4692a072bb4e84bba3a6",
            "26a6eca7adb84bcc8ca15f377044f4a9",
            "0bd227274ee0419db2cf3c883807869c",
            "a3c733ee664e40a9b22d51d20286393a",
            "01b3eecab9c347828f3a2b712f9cdb6f",
            "374adde561234629905787ba5bccdc93",
            "cd22aea3067a45648b33150b1ee32e84"
          ]
        },
        "outputId": "d8f2e6e0-ea4e-4082-ffb8-a3b73c0bf9b5"
      },
      "execution_count": null,
      "outputs": [
        {
          "output_type": "stream",
          "name": "stderr",
          "text": [
            "Downloading: \"https://download.pytorch.org/models/vgg16-397923af.pth\" to /root/.cache/torch/hub/checkpoints/vgg16-397923af.pth\n"
          ]
        },
        {
          "output_type": "display_data",
          "data": {
            "text/plain": [
              "  0%|          | 0.00/528M [00:00<?, ?B/s]"
            ],
            "application/vnd.jupyter.widget-view+json": {
              "version_major": 2,
              "version_minor": 0,
              "model_id": "7038362a2bc54a9299e6ae0d0d2a9ab9"
            }
          },
          "metadata": {}
        }
      ]
    },
    {
      "cell_type": "code",
      "source": [
        "# ( reference : https://www.kaggle.com/code/carloalbertobarbano/vgg16-transfer-learning-pytorch/notebook)\n",
        "count = 0\n",
        "v_loss_ls = []\n",
        "iteration_list = []\n",
        "v_acc_list = []\n",
        "epochs = 30\n",
        "\n",
        "for epoch in range(epochs):\n",
        "    for i, (images, labels) in enumerate(trainloader):\n",
        "            vgg16_cnn = vgg16_cnn.cuda()\n",
        "\n",
        "            optimizer_ft.zero_grad()\n",
        "            outputs = vgg16_cnn(images.cuda())\n",
        "            vgg_loss = criterion(outputs.cuda(), labels.cuda())\n",
        "            vgg_loss.backward()\n",
        "            optimizer_ft.step()\n",
        "\n",
        "            count += 1\n",
        "\n",
        "            if count % 50 == 0:\n",
        "                correct = 0\n",
        "                total = 0\n",
        "\n",
        "                for i, (images, labels) in enumerate(testloader):\n",
        "\n",
        "                    outputs = vgg16_cnn(images.cuda())\n",
        "                    predicted = torch.max(outputs.data, 1)[1]\n",
        "                    total += len(labels)\n",
        "                    correct += (predicted == labels.cuda()).sum()\n",
        "                v_acc = 100 * correct / float(total)\n",
        "\n",
        "                v_loss_ls.append(vgg_loss.data)\n",
        "                iteration_list.append(count)\n",
        "                v_acc_list.append(v_acc)\n",
        "\n",
        "                if count % 500 == 0:\n",
        "                    print(\"Iteration: {} Loss: {} VGG16 accuracy: {} %\".format(count, vgg_loss.data, v_acc))\n",
        "\n"
      ],
      "metadata": {
        "colab": {
          "base_uri": "https://localhost:8080/"
        },
        "id": "rzbEYTgRG0VD",
        "outputId": "48e38880-121c-4058-d577-64bb1d2b5c5d"
      },
      "execution_count": null,
      "outputs": [
        {
          "output_type": "stream",
          "name": "stdout",
          "text": [
            "Iteration: 500 Loss: 0.7769763469696045 VGG16 accuracy: 71.67535400390625 %\n",
            "Iteration: 1000 Loss: 0.3454485833644867 VGG16 accuracy: 77.80313110351562 %\n",
            "Iteration: 1500 Loss: 0.31379857659339905 VGG16 accuracy: 78.61798858642578 %\n",
            "Iteration: 2000 Loss: 0.10812991112470627 VGG16 accuracy: 79.75879669189453 %\n",
            "Iteration: 2500 Loss: 0.11473604291677475 VGG16 accuracy: 78.78096008300781 %\n",
            "Iteration: 3000 Loss: 0.035595301538705826 VGG16 accuracy: 79.04171752929688 %\n",
            "Iteration: 3500 Loss: 0.10835550725460052 VGG16 accuracy: 77.47718048095703 %\n",
            "Iteration: 4000 Loss: 0.012578804045915604 VGG16 accuracy: 78.81356048583984 %\n",
            "Iteration: 4500 Loss: 0.0006157935713417828 VGG16 accuracy: 80.70404052734375 %\n",
            "Iteration: 5000 Loss: 0.008055316284298897 VGG16 accuracy: 80.67144775390625 %\n",
            "Iteration: 5500 Loss: 0.00011378601629985496 VGG16 accuracy: 80.99739074707031 %\n"
          ]
        }
      ]
    },
    {
      "cell_type": "code",
      "source": [
        "# (reference : Lab 07)\n",
        "from joblib import dump, load\n",
        "dump(vgg16_cnn, 'CNN.joblib')"
      ],
      "metadata": {
        "colab": {
          "base_uri": "https://localhost:8080/"
        },
        "id": "IExGynSnVEAx",
        "outputId": "d94674da-f581-4233-a6aa-d54cae9fde78"
      },
      "execution_count": null,
      "outputs": [
        {
          "output_type": "execute_result",
          "data": {
            "text/plain": [
              "['CNN.joblib']"
            ]
          },
          "metadata": {},
          "execution_count": 21
        }
      ]
    },
    {
      "cell_type": "code",
      "source": [
        ""
      ],
      "metadata": {
        "id": "wyM7TmIxVOAP"
      },
      "execution_count": null,
      "outputs": []
    }
  ]
}